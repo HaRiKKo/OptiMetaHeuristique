{
 "cells": [
  {
   "cell_type": "code",
   "execution_count": 1,
   "metadata": {},
   "outputs": [],
   "source": [
    "from src.compute_objectives import *\n",
    "from src.functions import *\n",
    "import math\n",
    "import numpy as np"
   ]
  },
  {
   "cell_type": "code",
   "execution_count": 6,
   "metadata": {},
   "outputs": [
    {
     "name": "stdout",
     "output_type": "stream",
     "text": [
      "Population de départ :  [{0: 0, 1: 2, 2: 1, 3: 0, 4: 0}, {0: 1, 1: 0, 2: 0, 3: 1, 4: 1}, {0: 0, 1: 1, 2: 1, 3: 1, 4: 1}, {0: 1, 1: 2, 2: 1, 3: 2, 4: 2}, {0: 0, 1: 2, 2: 1, 3: 1, 4: 0}, {0: 1, 1: 2, 2: 1, 3: 1, 4: 1}, {0: 2, 1: 1, 2: 1, 3: 1, 4: 0}, {0: 1, 1: 2, 2: 2, 3: 2, 4: 2}, {0: 2, 1: 1, 2: 1, 3: 1, 4: 2}, {0: 2, 1: 0, 2: 1, 3: 2, 4: 0}]\n",
      "Evaluation de la population de départ :\n",
      " {0: [78.4, 32.666666666666664, 0.7959183673469389], 1: [79.175, 26.75, 0.8660436137071651], 2: [45.75, 27.5, 0.6666666666666666], 3: [46.525000000000006, 18.25, 0.8493150684931506], 4: [94.975, 27.416666666666664, 0.8378926038500506], 5: [41.775, 21.416666666666664, 0.708171206225681], 6: [81.075, 23.083333333333336, 0.6666666666666666], 7: [46.325, 15.583333333333332, 0.6666666666666666], 8: [81.675, 19.083333333333336, 0.9068413391557497], 9: [95.0, 22.0, 1.0101010101010102]}\n",
      "\n",
      "Population finale :  [{0: 0, 1: 1, 2: 1, 3: 1, 4: 1}, {0: 2, 1: 1, 2: 1, 3: 1, 4: 0}, {0: 1, 1: 2, 2: 2, 3: 2, 4: 2}, {0: 1, 1: 2, 2: 2, 3: 2, 4: 2}, {0: 1, 1: 2, 2: 2, 3: 2, 4: 0}, {0: 0, 1: 1, 2: 1, 3: 1, 4: 1}, {0: 0, 1: 1, 2: 1, 3: 1, 4: 1}, {0: 1, 1: 2, 2: 2, 3: 2, 4: 2}, {0: 1, 1: 2, 2: 2, 3: 2, 4: 2}, {0: 2, 1: 2, 2: 2, 3: 2, 4: 2}]\n",
      "Evaluation de la population finale :\n",
      " {0: [45.75, 27.5, 0.6666666666666666], 1: [81.075, 23.083333333333336, 0.6666666666666666], 2: [46.325, 15.583333333333332, 0.6666666666666666], 3: [46.325, 15.583333333333332, 0.6666666666666666], 4: [80.725, 19.583333333333332, 0.6666666666666666], 5: [45.75, 27.5, 0.6666666666666666], 6: [45.75, 27.5, 0.6666666666666666], 7: [46.325, 15.583333333333332, 0.6666666666666666], 8: [46.325, 15.583333333333332, 0.6666666666666666], 9: [16.2, 12.666666666666668, 0.6666666666666666]}\n"
     ]
    }
   ],
   "source": [
    "CRITERE_ARRET = 100\n",
    "\n",
    "# Initialisation de la population de départ\n",
    "population_depart = create_start_population()\n",
    "print(\"Population de départ : \", population_depart)\n",
    "\n",
    "print(\"Evaluation de la population de départ :\\n\",evaluate_population(population_depart))\n",
    "\n",
    "# Entrée dans la boucle\n",
    "for i in range(CRITERE_ARRET):\n",
    "    # print(\"\\n____ Debut de la boucle \", i)\n",
    "    # Evaluation de la population\n",
    "    score = evaluate_population(population_depart)\n",
    "\n",
    "    # Rang\n",
    "    rank = ranking(score)\n",
    "    # print(\"Rang de la population de départ : \", score)\n",
    "\n",
    "    ### Child population - début\n",
    "    selected_solution = selection(population_depart, rank)\n",
    "    # print(\"Population sélectionnée : \", selected_solution)\n",
    "\n",
    "    # Crossover\n",
    "    crossed_population = crossover(selected_solution)\n",
    "\n",
    "    # Mutation\n",
    "    mutated_population = mutation(crossed_population)\n",
    "    # print(\"Population enfant : \", mutated_population)\n",
    "    ### Child population - fin\n",
    "\n",
    "    # Combinaison des populations\n",
    "    combined_population = population_depart + mutated_population\n",
    "\n",
    "    selected_elite_population = elitism_selection(10, combined_population)\n",
    "    # print(\"Elite population : \", selected_elite_population)\n",
    "\n",
    "    # La population elite devient la nouvelle population de départ\n",
    "    population_depart = selected_elite_population\n",
    "\n",
    "print(\"\\nPopulation finale : \", selected_elite_population)\n",
    "print(\"Evaluation de la population finale :\\n\",evaluate_population(selected_elite_population))\n",
    "\n"
   ]
  }
 ],
 "metadata": {
  "kernelspec": {
   "display_name": "Python 3",
   "language": "python",
   "name": "python3"
  },
  "language_info": {
   "codemirror_mode": {
    "name": "ipython",
    "version": 3
   },
   "file_extension": ".py",
   "mimetype": "text/x-python",
   "name": "python",
   "nbconvert_exporter": "python",
   "pygments_lexer": "ipython3",
   "version": "3.8.3"
  },
  "orig_nbformat": 4
 },
 "nbformat": 4,
 "nbformat_minor": 2
}
