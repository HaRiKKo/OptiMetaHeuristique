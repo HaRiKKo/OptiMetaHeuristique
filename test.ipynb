{
 "cells": [
  {
   "cell_type": "code",
   "execution_count": 11,
   "metadata": {},
   "outputs": [],
   "source": [
    "from src.compute_objectives import *\n",
    "from src.functions import *\n",
    "import math\n",
    "import numpy as np"
   ]
  },
  {
   "cell_type": "code",
   "execution_count": 2,
   "metadata": {},
   "outputs": [],
   "source": [
    "starter = create_start_population()"
   ]
  },
  {
   "cell_type": "code",
   "execution_count": 26,
   "metadata": {},
   "outputs": [
    {
     "name": "stdout",
     "output_type": "stream",
     "text": [
      "[{0: 2, 1: 2, 2: 2, 3: 1, 4: 0}, {0: 2, 1: 2, 2: 2, 3: 1, 4: 0}, {0: 0, 1: 2, 2: 2, 3: 0, 4: 2}, {0: 2, 1: 0, 2: 0, 3: 1, 4: 1}, {0: 1, 1: 1, 2: 0, 3: 2, 4: 1}, {0: 1, 1: 0, 2: 0, 3: 1, 4: 1}, {0: 2, 1: 0, 2: 0, 3: 1, 4: 0}, {0: 1, 1: 2, 2: 1, 3: 1, 4: 2}, {0: 0, 1: 2, 2: 0, 3: 0, 4: 0}, {0: 1, 1: 2, 2: 0, 3: 2, 4: 2}]\n"
     ]
    }
   ],
   "source": [
    "print(starter)"
   ]
  },
  {
   "cell_type": "code",
   "execution_count": 6,
   "metadata": {},
   "outputs": [
    {
     "name": "stdout",
     "output_type": "stream",
     "text": [
      "population [{0: 2, 1: 1, 2: 1, 3: 0, 4: 1}, {0: 2, 1: 2, 2: 0, 3: 2, 4: 1}, {0: 1, 1: 2, 2: 2, 3: 2, 4: 2}, {0: 2, 1: 0, 2: 0, 3: 0, 4: 2}, {0: 1, 1: 2, 2: 0, 3: 2, 4: 0}, {0: 2, 1: 1, 2: 2, 3: 0, 4: 0}, {0: 0, 1: 2, 2: 2, 3: 1, 4: 1}, {0: 0, 1: 0, 2: 1, 3: 1, 4: 0}, {0: 1, 1: 2, 2: 0, 3: 0, 4: 1}, {0: 2, 1: 2, 2: 1, 3: 0, 4: 1}]\n",
      "\n",
      "score {0: [75.175, 26.083333333333336, 0.845580404685836], 1: [69.675, 23.083333333333332, 0.7725631768953068], 2: [46.325, 15.583333333333332, 0.6666666666666666], 3: [77.4, 27.333333333333336, 0.9349593495934959], 4: [59.125, 28.25, 0.7531956735496559], 5: [59.3, 28.333333333333336, 0.7294117647058824], 6: [80.45, 25.166666666666664, 0.7019867549668874], 7: [84.175, 32.75, 0.8371501272264631], 8: [93.4, 26.666666666666664, 0.9083333333333333], 9: [65.075, 23.75, 0.9005847953216374]}\n",
      "\n",
      "10\n",
      "############## 0\n",
      "\n",
      "objectif 0\n",
      "objectif_key 75.175\n",
      "solution teste 0\n",
      "score solution 75.175\n",
      "solution teste 1\n",
      "score solution 69.675\n",
      "solution teste 2\n",
      "score solution 46.325\n",
      "solution teste 3\n",
      "score solution 77.4\n",
      "solution teste 4\n",
      "score solution 59.125\n",
      "solution teste 5\n",
      "score solution 59.3\n",
      "solution teste 6\n",
      "score solution 80.45\n",
      "solution teste 7\n",
      "score solution 84.175\n",
      "solution teste 8\n",
      "score solution 93.4\n",
      "solution teste 9\n",
      "score solution 65.075\n",
      "\n",
      "objectif 1\n",
      "objectif_key 26.083333333333336\n",
      "solution teste 1\n",
      "score solution 23.083333333333332\n",
      "solution teste 2\n",
      "score solution 15.583333333333332\n",
      "solution teste 4\n",
      "score solution 28.25\n",
      "solution teste 5\n",
      "score solution 28.333333333333336\n",
      "solution teste 9\n",
      "score solution 23.75\n",
      "\n",
      "objectif 2\n",
      "objectif_key 0.845580404685836\n",
      "solution teste 1\n",
      "score solution 0.7725631768953068\n",
      "solution teste 2\n",
      "score solution 0.6666666666666666\n",
      "solution teste 9\n",
      "score solution 0.9005847953216374\n",
      "############## 1\n",
      "\n",
      "objectif 0\n",
      "objectif_key 69.675\n",
      "solution teste 0\n",
      "score solution 75.175\n",
      "solution teste 1\n",
      "score solution 69.675\n",
      "solution teste 2\n",
      "score solution 46.325\n",
      "solution teste 3\n",
      "score solution 77.4\n",
      "solution teste 4\n",
      "score solution 59.125\n",
      "solution teste 5\n",
      "score solution 59.3\n",
      "solution teste 6\n",
      "score solution 80.45\n",
      "solution teste 7\n",
      "score solution 84.175\n",
      "solution teste 8\n",
      "score solution 93.4\n",
      "solution teste 9\n",
      "score solution 65.075\n",
      "\n",
      "objectif 1\n",
      "objectif_key 23.083333333333332\n",
      "solution teste 2\n",
      "score solution 15.583333333333332\n",
      "solution teste 4\n",
      "score solution 28.25\n",
      "solution teste 5\n",
      "score solution 28.333333333333336\n",
      "solution teste 9\n",
      "score solution 23.75\n",
      "\n",
      "objectif 2\n",
      "objectif_key 0.7725631768953068\n",
      "solution teste 2\n",
      "score solution 0.6666666666666666\n",
      "############## 2\n",
      "\n",
      "objectif 0\n",
      "objectif_key 46.325\n",
      "solution teste 0\n",
      "score solution 75.175\n",
      "solution teste 1\n",
      "score solution 69.675\n",
      "solution teste 2\n",
      "score solution 46.325\n",
      "solution teste 3\n",
      "score solution 77.4\n",
      "solution teste 4\n",
      "score solution 59.125\n",
      "solution teste 5\n",
      "score solution 59.3\n",
      "solution teste 6\n",
      "score solution 80.45\n",
      "solution teste 7\n",
      "score solution 84.175\n",
      "solution teste 8\n",
      "score solution 93.4\n",
      "solution teste 9\n",
      "score solution 65.075\n",
      "\n",
      "objectif 1\n",
      "objectif_key 15.583333333333332\n",
      "\n",
      "objectif 2\n",
      "objectif_key 0.6666666666666666\n",
      "############## 3\n",
      "\n",
      "objectif 0\n",
      "objectif_key 77.4\n",
      "solution teste 0\n",
      "score solution 75.175\n",
      "solution teste 1\n",
      "score solution 69.675\n",
      "solution teste 2\n",
      "score solution 46.325\n",
      "solution teste 3\n",
      "score solution 77.4\n",
      "solution teste 4\n",
      "score solution 59.125\n",
      "solution teste 5\n",
      "score solution 59.3\n",
      "solution teste 6\n",
      "score solution 80.45\n",
      "solution teste 7\n",
      "score solution 84.175\n",
      "solution teste 8\n",
      "score solution 93.4\n",
      "solution teste 9\n",
      "score solution 65.075\n",
      "\n",
      "objectif 1\n",
      "objectif_key 27.333333333333336\n",
      "solution teste 0\n",
      "score solution 26.083333333333336\n",
      "solution teste 1\n",
      "score solution 23.083333333333332\n",
      "solution teste 2\n",
      "score solution 15.583333333333332\n",
      "solution teste 4\n",
      "score solution 28.25\n",
      "solution teste 5\n",
      "score solution 28.333333333333336\n",
      "solution teste 9\n",
      "score solution 23.75\n",
      "\n",
      "objectif 2\n",
      "objectif_key 0.9349593495934959\n",
      "solution teste 0\n",
      "score solution 0.845580404685836\n",
      "solution teste 1\n",
      "score solution 0.7725631768953068\n",
      "solution teste 2\n",
      "score solution 0.6666666666666666\n",
      "solution teste 9\n",
      "score solution 0.9005847953216374\n",
      "############## 4\n",
      "\n",
      "objectif 0\n",
      "objectif_key 59.125\n",
      "solution teste 0\n",
      "score solution 75.175\n",
      "solution teste 1\n",
      "score solution 69.675\n",
      "solution teste 2\n",
      "score solution 46.325\n",
      "solution teste 3\n",
      "score solution 77.4\n",
      "solution teste 4\n",
      "score solution 59.125\n",
      "solution teste 5\n",
      "score solution 59.3\n",
      "solution teste 6\n",
      "score solution 80.45\n",
      "solution teste 7\n",
      "score solution 84.175\n",
      "solution teste 8\n",
      "score solution 93.4\n",
      "solution teste 9\n",
      "score solution 65.075\n",
      "\n",
      "objectif 1\n",
      "objectif_key 28.25\n",
      "solution teste 2\n",
      "score solution 15.583333333333332\n",
      "\n",
      "objectif 2\n",
      "objectif_key 0.7531956735496559\n",
      "solution teste 2\n",
      "score solution 0.6666666666666666\n",
      "############## 5\n",
      "\n",
      "objectif 0\n",
      "objectif_key 59.3\n",
      "solution teste 0\n",
      "score solution 75.175\n",
      "solution teste 1\n",
      "score solution 69.675\n",
      "solution teste 2\n",
      "score solution 46.325\n",
      "solution teste 3\n",
      "score solution 77.4\n",
      "solution teste 4\n",
      "score solution 59.125\n",
      "solution teste 5\n",
      "score solution 59.3\n",
      "solution teste 6\n",
      "score solution 80.45\n",
      "solution teste 7\n",
      "score solution 84.175\n",
      "solution teste 8\n",
      "score solution 93.4\n",
      "solution teste 9\n",
      "score solution 65.075\n",
      "\n",
      "objectif 1\n",
      "objectif_key 28.333333333333336\n",
      "solution teste 2\n",
      "score solution 15.583333333333332\n",
      "solution teste 4\n",
      "score solution 28.25\n",
      "\n",
      "objectif 2\n",
      "objectif_key 0.7294117647058824\n",
      "solution teste 2\n",
      "score solution 0.6666666666666666\n",
      "solution teste 4\n",
      "score solution 0.7531956735496559\n",
      "############## 6\n",
      "\n",
      "objectif 0\n",
      "objectif_key 80.45\n",
      "solution teste 0\n",
      "score solution 75.175\n",
      "solution teste 1\n",
      "score solution 69.675\n",
      "solution teste 2\n",
      "score solution 46.325\n",
      "solution teste 3\n",
      "score solution 77.4\n",
      "solution teste 4\n",
      "score solution 59.125\n",
      "solution teste 5\n",
      "score solution 59.3\n",
      "solution teste 6\n",
      "score solution 80.45\n",
      "solution teste 7\n",
      "score solution 84.175\n",
      "solution teste 8\n",
      "score solution 93.4\n",
      "solution teste 9\n",
      "score solution 65.075\n",
      "\n",
      "objectif 1\n",
      "objectif_key 25.166666666666664\n",
      "solution teste 0\n",
      "score solution 26.083333333333336\n",
      "solution teste 1\n",
      "score solution 23.083333333333332\n",
      "solution teste 2\n",
      "score solution 15.583333333333332\n",
      "solution teste 3\n",
      "score solution 27.333333333333336\n",
      "solution teste 4\n",
      "score solution 28.25\n",
      "solution teste 5\n",
      "score solution 28.333333333333336\n",
      "solution teste 9\n",
      "score solution 23.75\n",
      "\n",
      "objectif 2\n",
      "objectif_key 0.7019867549668874\n",
      "solution teste 1\n",
      "score solution 0.7725631768953068\n",
      "solution teste 2\n",
      "score solution 0.6666666666666666\n",
      "solution teste 9\n",
      "score solution 0.9005847953216374\n",
      "############## 7\n",
      "\n",
      "objectif 0\n",
      "objectif_key 84.175\n",
      "solution teste 0\n",
      "score solution 75.175\n",
      "solution teste 1\n",
      "score solution 69.675\n",
      "solution teste 2\n",
      "score solution 46.325\n",
      "solution teste 3\n",
      "score solution 77.4\n",
      "solution teste 4\n",
      "score solution 59.125\n",
      "solution teste 5\n",
      "score solution 59.3\n",
      "solution teste 6\n",
      "score solution 80.45\n",
      "solution teste 7\n",
      "score solution 84.175\n",
      "solution teste 8\n",
      "score solution 93.4\n",
      "solution teste 9\n",
      "score solution 65.075\n",
      "\n",
      "objectif 1\n",
      "objectif_key 32.75\n",
      "solution teste 0\n",
      "score solution 26.083333333333336\n",
      "solution teste 1\n",
      "score solution 23.083333333333332\n",
      "solution teste 2\n",
      "score solution 15.583333333333332\n",
      "solution teste 3\n",
      "score solution 27.333333333333336\n",
      "solution teste 4\n",
      "score solution 28.25\n",
      "solution teste 5\n",
      "score solution 28.333333333333336\n",
      "solution teste 6\n",
      "score solution 25.166666666666664\n",
      "solution teste 9\n",
      "score solution 23.75\n",
      "\n",
      "objectif 2\n",
      "objectif_key 0.8371501272264631\n",
      "solution teste 0\n",
      "score solution 0.845580404685836\n",
      "solution teste 1\n",
      "score solution 0.7725631768953068\n",
      "solution teste 2\n",
      "score solution 0.6666666666666666\n",
      "solution teste 3\n",
      "score solution 0.9349593495934959\n",
      "solution teste 4\n",
      "score solution 0.7531956735496559\n",
      "solution teste 5\n",
      "score solution 0.7294117647058824\n",
      "solution teste 6\n",
      "score solution 0.7019867549668874\n",
      "solution teste 9\n",
      "score solution 0.9005847953216374\n",
      "############## 8\n",
      "\n",
      "objectif 0\n",
      "objectif_key 93.4\n",
      "solution teste 0\n",
      "score solution 75.175\n",
      "solution teste 1\n",
      "score solution 69.675\n",
      "solution teste 2\n",
      "score solution 46.325\n",
      "solution teste 3\n",
      "score solution 77.4\n",
      "solution teste 4\n",
      "score solution 59.125\n",
      "solution teste 5\n",
      "score solution 59.3\n",
      "solution teste 6\n",
      "score solution 80.45\n",
      "solution teste 7\n",
      "score solution 84.175\n",
      "solution teste 8\n",
      "score solution 93.4\n",
      "solution teste 9\n",
      "score solution 65.075\n",
      "\n",
      "objectif 1\n",
      "objectif_key 26.666666666666664\n",
      "solution teste 0\n",
      "score solution 26.083333333333336\n",
      "solution teste 1\n",
      "score solution 23.083333333333332\n",
      "solution teste 2\n",
      "score solution 15.583333333333332\n",
      "solution teste 3\n",
      "score solution 27.333333333333336\n",
      "solution teste 4\n",
      "score solution 28.25\n",
      "solution teste 5\n",
      "score solution 28.333333333333336\n",
      "solution teste 6\n",
      "score solution 25.166666666666664\n",
      "solution teste 7\n",
      "score solution 32.75\n",
      "solution teste 9\n",
      "score solution 23.75\n",
      "\n",
      "objectif 2\n",
      "objectif_key 0.9083333333333333\n",
      "solution teste 0\n",
      "score solution 0.845580404685836\n",
      "solution teste 1\n",
      "score solution 0.7725631768953068\n",
      "solution teste 2\n",
      "score solution 0.6666666666666666\n",
      "solution teste 6\n",
      "score solution 0.7019867549668874\n",
      "solution teste 9\n",
      "score solution 0.9005847953216374\n",
      "############## 9\n",
      "\n",
      "objectif 0\n",
      "objectif_key 65.075\n",
      "solution teste 0\n",
      "score solution 75.175\n",
      "solution teste 1\n",
      "score solution 69.675\n",
      "solution teste 2\n",
      "score solution 46.325\n",
      "solution teste 3\n",
      "score solution 77.4\n",
      "solution teste 4\n",
      "score solution 59.125\n",
      "solution teste 5\n",
      "score solution 59.3\n",
      "solution teste 6\n",
      "score solution 80.45\n",
      "solution teste 7\n",
      "score solution 84.175\n",
      "solution teste 8\n",
      "score solution 93.4\n",
      "solution teste 9\n",
      "score solution 65.075\n",
      "\n",
      "objectif 1\n",
      "objectif_key 23.75\n",
      "solution teste 2\n",
      "score solution 15.583333333333332\n",
      "solution teste 4\n",
      "score solution 28.25\n",
      "solution teste 5\n",
      "score solution 28.333333333333336\n",
      "\n",
      "objectif 2\n",
      "objectif_key 0.9005847953216374\n",
      "solution teste 2\n",
      "score solution 0.6666666666666666\n",
      "dominance {0: [1, 2], 1: [2], 2: [], 3: [0, 1, 2, 9], 4: [2], 5: [2], 6: [2], 7: [1, 2, 4, 5, 6], 8: [0, 1, 2, 6, 9], 9: [2]}\n",
      "\n",
      "{2: [], 1: [2], 4: [2], 5: [2], 6: [2], 9: [2], 0: [1, 2], 3: [0, 1, 2, 9], 7: [1, 2, 4, 5, 6], 8: [0, 1, 2, 6, 9]}\n",
      "1\n",
      "2\n",
      "0\n",
      "3\n",
      "1\n",
      "2\n",
      "0\n",
      "3\n",
      "{2: 1, 1: 2, 4: 2, 5: 2, 6: 2, 9: 2, 0: 3, 3: 4, 7: 3, 8: 4}\n"
     ]
    }
   ],
   "source": [
    "evaluation = evaluate_population(starter)\n",
    "print(len(evaluation))\n",
    "score = ranking(evaluation)"
   ]
  },
  {
   "cell_type": "code",
   "execution_count": 6,
   "metadata": {},
   "outputs": [
    {
     "name": "stdout",
     "output_type": "stream",
     "text": [
      "1\n"
     ]
    }
   ],
   "source": [
    "rankk = {0: 1, 1: 1, 3: 1, 4: 1, 5: 1, 8: 1, 6: 2, 2: 2, 7: 3}\n",
    "print(rankk[0])"
   ]
  },
  {
   "cell_type": "code",
   "execution_count": 5,
   "metadata": {},
   "outputs": [
    {
     "name": "stdout",
     "output_type": "stream",
     "text": [
      "0 1\n",
      "2 3\n",
      "4 5\n"
     ]
    }
   ],
   "source": [
    "liste = [*range(6)]\n",
    "for i in range(0,6,2):\n",
    "    print(liste[i], liste[i+1])"
   ]
  },
  {
   "cell_type": "code",
   "execution_count": 9,
   "metadata": {},
   "outputs": [
    {
     "data": {
      "text/plain": [
       "inf"
      ]
     },
     "execution_count": 9,
     "metadata": {},
     "output_type": "execute_result"
    }
   ],
   "source": [
    "import math\n",
    "\n",
    "math.inf - 5"
   ]
  },
  {
   "cell_type": "code",
   "execution_count": 14,
   "metadata": {},
   "outputs": [
    {
     "name": "stdout",
     "output_type": "stream",
     "text": [
      "[2, 10, 16]\n",
      "[-2, 2, 5]\n"
     ]
    }
   ],
   "source": [
    "def somme(a):\n",
    "    return a+a\n",
    "\n",
    "def diff(a):\n",
    "    return a-3\n",
    "\n",
    "operations = [somme, diff]\n",
    "\n",
    "list(map(somme,[1,2]))\n",
    "\n",
    "# Truc incroyable\n",
    "for op in operations :\n",
    "    print(list(map(op, [1,5,8])))"
   ]
  },
  {
   "cell_type": "code",
   "execution_count": 19,
   "metadata": {},
   "outputs": [
    {
     "name": "stdout",
     "output_type": "stream",
     "text": [
      "[3, 0, 2, 4, 1]\n",
      "10\n",
      "24\n",
      "25\n"
     ]
    }
   ],
   "source": [
    "evaluated_pop = [10,58,24,3,25]\n",
    "sorted_pop = sorted(range(len(evaluated_pop)), key=lambda k: evaluated_pop[k])\n",
    "print(sorted_pop)\n",
    "\n",
    "for i in range(1,len(evaluated_pop)-1):\n",
    "    print(evaluated_pop[sorted_pop[i]])"
   ]
  },
  {
   "cell_type": "code",
   "execution_count": 3,
   "metadata": {},
   "outputs": [],
   "source": [
    "def crowding_distance(liste_solutions):\n",
    "    objective_functions = [compute_makespan, compute_cout, compute_disponibilite]\n",
    "    l = len(liste_solutions)\n",
    "    # Initialisation des distances\n",
    "    distance = {}\n",
    "    for i in range(l):\n",
    "        distance[i] = 0\n",
    "\n",
    "    # Tri en fonction de chaque objectif\n",
    "    for objectif in objective_functions:\n",
    "        # Evaluation\n",
    "        evaluated_pop = list(map(objectif, liste_solutions))\n",
    "        # Sort\n",
    "        sorted_pop = sorted(range(len(evaluated_pop)), key=lambda k: evaluated_pop[k])\n",
    "        # Infini pour les valeurs extrêmes\n",
    "        distance[sorted_pop[0]] = math.inf\n",
    "        distance[sorted_pop[-1]] = math.inf\n",
    "        for i in range(1,l-1):\n",
    "            distance[sorted_pop[i]] += evaluated_pop[sorted_pop[i+1]] - evaluated_pop[sorted_pop[i-1]]\n",
    "        \n",
    "        res = dict()\n",
    "        for key in distance:\n",
    "            if distance[key] != math.inf:\n",
    "                res[key] = round(distance[key][0],2)\n",
    "            else:\n",
    "                res[key] = distance[key]\n",
    "        \n",
    "        return res"
   ]
  },
  {
   "cell_type": "code",
   "execution_count": 43,
   "metadata": {},
   "outputs": [
    {
     "data": {
      "text/plain": [
       "{0: inf, 1: inf}"
      ]
     },
     "execution_count": 43,
     "metadata": {},
     "output_type": "execute_result"
    }
   ],
   "source": [
    "crowding_distance(starter[0:2])"
   ]
  },
  {
   "cell_type": "code",
   "execution_count": 15,
   "metadata": {},
   "outputs": [
    {
     "data": {
      "text/plain": [
       "0"
      ]
     },
     "execution_count": 15,
     "metadata": {},
     "output_type": "execute_result"
    }
   ],
   "source": [
    "np.argmax([12,4])"
   ]
  },
  {
   "cell_type": "code",
   "execution_count": 16,
   "metadata": {},
   "outputs": [],
   "source": [
    "def selection(liste_solutions, ranking):\n",
    "    # On selectionne la moitié des solutions\n",
    "    # Comparaison des solutions 2 par 2 (choisies au hasard) puis sélection de la meilleure\n",
    "    distance_dict = crowding_distance(liste_solutions)\n",
    "    id_solutions = [*range(len(liste_solutions))]\n",
    "    random.shuffle(id_solutions)\n",
    "    selected_solutions = []\n",
    "    print(len(ranking))\n",
    "    print(len(liste_solutions))\n",
    "    for i in range(0,len(liste_solutions)-1,2):\n",
    "        rank = ranking[i] - ranking[i+1]\n",
    "        if rank == 0:\n",
    "            if distance_dict[i] >= distance_dict[i+1]:\n",
    "                selected_solutions.append(i)\n",
    "            else:\n",
    "                selected_solutions.append(i+1)\n",
    "        elif rank > 0:\n",
    "            selected_solutions.append(i)\n",
    "        else:\n",
    "            selected_solutions.append(i+1)\n",
    "    \n",
    "    return selected_solutions"
   ]
  },
  {
   "cell_type": "code",
   "execution_count": 7,
   "metadata": {},
   "outputs": [
    {
     "name": "stdout",
     "output_type": "stream",
     "text": [
      "{0: 1, 1: 1, 5: 1, 3: 2, 9: 2, 4: 2, 6: 2, 7: 3, 2: 4}\n"
     ]
    }
   ],
   "source": [
    "print(score)"
   ]
  },
  {
   "cell_type": "code",
   "execution_count": 7,
   "metadata": {},
   "outputs": [
    {
     "name": "stdout",
     "output_type": "stream",
     "text": [
      "10\n",
      "10\n"
     ]
    }
   ],
   "source": [
    "print(len(starter))\n",
    "print(len(score))"
   ]
  },
  {
   "cell_type": "code",
   "execution_count": 58,
   "metadata": {},
   "outputs": [
    {
     "name": "stdout",
     "output_type": "stream",
     "text": [
      "[{0: 1, 1: 2, 2: 2, 3: 2, 4: 1}, {0: 2, 1: 2, 2: 1, 3: 2, 4: 0}, {0: 0, 1: 1, 2: 0, 3: 0, 4: 2}, {0: 1, 1: 1, 2: 1, 3: 1, 4: 2}, {0: 2, 1: 0, 2: 1, 3: 1, 4: 0}, {0: 1, 1: 0, 2: 0, 3: 0, 4: 1}, {0: 1, 1: 0, 2: 1, 3: 1, 4: 2}, {0: 2, 1: 1, 2: 1, 3: 0, 4: 0}, {0: 2, 1: 1, 2: 2, 3: 1, 4: 0}, {0: 2, 1: 2, 2: 1, 3: 2, 4: 0}]\n"
     ]
    }
   ],
   "source": [
    "print(starter)"
   ]
  },
  {
   "cell_type": "code",
   "execution_count": 17,
   "metadata": {},
   "outputs": [
    {
     "name": "stdout",
     "output_type": "stream",
     "text": [
      "[{0: 2, 1: 1, 2: 1, 3: 0, 4: 1}, {0: 2, 1: 2, 2: 0, 3: 2, 4: 1}, {0: 1, 1: 2, 2: 2, 3: 2, 4: 2}, {0: 2, 1: 0, 2: 0, 3: 0, 4: 2}, {0: 1, 1: 2, 2: 0, 3: 2, 4: 0}, {0: 2, 1: 1, 2: 2, 3: 0, 4: 0}, {0: 0, 1: 2, 2: 2, 3: 1, 4: 1}, {0: 0, 1: 0, 2: 1, 3: 1, 4: 0}, {0: 1, 1: 2, 2: 0, 3: 0, 4: 1}, {0: 2, 1: 2, 2: 1, 3: 0, 4: 1}]\n",
      "10\n",
      "10\n"
     ]
    },
    {
     "data": {
      "text/plain": [
       "[0, 3, 5, 7, 8]"
      ]
     },
     "execution_count": 17,
     "metadata": {},
     "output_type": "execute_result"
    }
   ],
   "source": [
    "print(starter)\n",
    "selection(starter,score)"
   ]
  }
 ],
 "metadata": {
  "kernelspec": {
   "display_name": "Python 3",
   "language": "python",
   "name": "python3"
  },
  "language_info": {
   "codemirror_mode": {
    "name": "ipython",
    "version": 3
   },
   "file_extension": ".py",
   "mimetype": "text/x-python",
   "name": "python",
   "nbconvert_exporter": "python",
   "pygments_lexer": "ipython3",
   "version": "3.8.3"
  },
  "orig_nbformat": 4
 },
 "nbformat": 4,
 "nbformat_minor": 2
}
