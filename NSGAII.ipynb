{
 "cells": [
  {
   "cell_type": "code",
   "execution_count": 1,
   "metadata": {},
   "outputs": [],
   "source": [
    "from src.compute_objectives import *\n",
    "from src.functions import *"
   ]
  },
  {
   "cell_type": "code",
   "execution_count": 3,
   "metadata": {},
   "outputs": [
    {
     "name": "stdout",
     "output_type": "stream",
     "text": [
      "Population de départ :  [{0: 1, 1: 0, 2: 2, 3: 1, 4: 1, 5: 2, 6: 0, 7: 0, 8: 1, 9: 0, 10: 1, 11: 0, 12: 1, 13: 2, 14: 2}, {0: 2, 1: 1, 2: 1, 3: 0, 4: 0, 5: 2, 6: 2, 7: 2, 8: 1, 9: 1, 10: 2, 11: 2, 12: 1, 13: 2, 14: 0}, {0: 1, 1: 0, 2: 2, 3: 1, 4: 0, 5: 0, 6: 2, 7: 0, 8: 1, 9: 1, 10: 2, 11: 0, 12: 1, 13: 0, 14: 0}, {0: 1, 1: 0, 2: 1, 3: 1, 4: 0, 5: 1, 6: 0, 7: 2, 8: 0, 9: 0, 10: 1, 11: 1, 12: 0, 13: 2, 14: 0}, {0: 0, 1: 1, 2: 1, 3: 2, 4: 2, 5: 0, 6: 2, 7: 0, 8: 1, 9: 2, 10: 0, 11: 1, 12: 0, 13: 1, 14: 2}, {0: 1, 1: 1, 2: 2, 3: 0, 4: 0, 5: 2, 6: 0, 7: 1, 8: 1, 9: 0, 10: 1, 11: 2, 12: 1, 13: 1, 14: 1}, {0: 2, 1: 0, 2: 1, 3: 1, 4: 0, 5: 2, 6: 0, 7: 1, 8: 1, 9: 0, 10: 0, 11: 0, 12: 0, 13: 0, 14: 1}, {0: 2, 1: 0, 2: 0, 3: 2, 4: 1, 5: 1, 6: 0, 7: 1, 8: 0, 9: 0, 10: 0, 11: 1, 12: 1, 13: 1, 14: 2}, {0: 2, 1: 1, 2: 1, 3: 0, 4: 1, 5: 2, 6: 1, 7: 1, 8: 2, 9: 1, 10: 2, 11: 1, 12: 2, 13: 1, 14: 2}, {0: 1, 1: 1, 2: 1, 3: 0, 4: 1, 5: 0, 6: 2, 7: 1, 8: 1, 9: 0, 10: 0, 11: 2, 12: 2, 13: 0, 14: 0}]\n",
      "Evaluation de la population de départ :\n",
      " {0: [798.3022875816993, 431.69934640522877, 0.8369290941206157], 1: [802.0849673202615, 403.3496732026143, 0.6865167780703532], 2: [823.8366013071894, 416.6666666666667, 0.7601960784313726], 3: [833.234885620915, 452.2467320261438, 0.8153132809442086], 4: [825.314133986928, 448.4885620915033, 0.7905698758235419], 5: [795.9971405228758, 459.19117647058823, 0.6406310233371882], 6: [856.4640522875817, 462.09150326797385, 0.6662541254125413], 7: [849.3709150326797, 445.01633986928107, 0.8708463374334495], 8: [775.7230392156864, 404.7794117647059, 0.5696841255424362], 9: [834.7124183006537, 445.01633986928107, 0.5786671562327886]}\n"
     ]
    }
   ],
   "source": [
    "### Algorithme NSGA II\n",
    "\n",
    "CRITERE_ARRET = 1000\n",
    "\n",
    "# Initialisation de la population de départ\n",
    "population_depart = create_start_population()\n",
    "print(\"Population de départ : \", population_depart)\n",
    "display_pop(population_depart)\n",
    "\n",
    "print(\n",
    "    \"Evaluation de la population de départ :\\n\", evaluate_population(population_depart)\n",
    ")\n",
    "\n",
    "# Entrée dans la boucle\n",
    "for i in range(CRITERE_ARRET):\n",
    "    # print(\"\\n____ Debut de la boucle \", i)\n",
    "    # Evaluation de la population\n",
    "    score = evaluate_population(population_depart)\n",
    "\n",
    "    # Rang\n",
    "    rank = ranking(score)\n",
    "    # print(\"Rang de la population de départ : \", score)\n",
    "\n",
    "    ### Child population - début\n",
    "    selected_solution = selection(population_depart, rank)\n",
    "    # print(\"Population sélectionnée : \", selected_solution)\n",
    "\n",
    "    # Crossover\n",
    "    crossed_population = crossover(selected_solution)\n",
    "\n",
    "    # Mutation\n",
    "    mutated_population = mutation(crossed_population)\n",
    "    # print(\"Population enfant : \", mutated_population)\n",
    "    ### Child population - fin\n",
    "\n",
    "    # Combinaison des populations\n",
    "    combined_population = population_depart + mutated_population\n",
    "\n",
    "    selected_elite_population = elitism_selection(10, combined_population)\n",
    "    # print(\"Elite population : \", selected_elite_population)\n",
    "\n",
    "    # La population elite devient la nouvelle population de départ\n",
    "    population_depart = selected_elite_population\n",
    "\n",
    "print(\"\\nPopulation finale : \", selected_elite_population)\n",
    "display_pop(selected_elite_population)\n",
    "print(\n",
    "    \"Evaluation de la population finale :\\n\",\n",
    "    evaluate_population(selected_elite_population),\n",
    ")"
   ]
  }
 ],
 "metadata": {
  "kernelspec": {
   "display_name": "Python 3",
   "language": "python",
   "name": "python3"
  },
  "language_info": {
   "codemirror_mode": {
    "name": "ipython",
    "version": 3
   },
   "file_extension": ".py",
   "mimetype": "text/x-python",
   "name": "python",
   "nbconvert_exporter": "python",
   "pygments_lexer": "ipython3",
   "version": "3.8.3"
  },
  "orig_nbformat": 4
 },
 "nbformat": 4,
 "nbformat_minor": 2
}
