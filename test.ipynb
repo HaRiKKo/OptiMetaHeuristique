{
 "cells": [
  {
   "cell_type": "code",
   "execution_count": 1,
   "metadata": {},
   "outputs": [],
   "source": [
    "from src.compute_objectives import *\n",
    "from src.functions import *"
   ]
  },
  {
   "cell_type": "code",
   "execution_count": 2,
   "metadata": {},
   "outputs": [],
   "source": [
    "starter = create_start_population()"
   ]
  },
  {
   "cell_type": "code",
   "execution_count": 47,
   "metadata": {},
   "outputs": [
    {
     "name": "stdout",
     "output_type": "stream",
     "text": [
      "population [{0: 1, 1: 2, 2: 2, 3: 2, 4: 1}, {0: 2, 1: 2, 2: 1, 3: 2, 4: 0}, {0: 0, 1: 1, 2: 0, 3: 0, 4: 2}, {0: 1, 1: 1, 2: 1, 3: 1, 4: 2}, {0: 2, 1: 0, 2: 1, 3: 1, 4: 0}, {0: 1, 1: 0, 2: 0, 3: 0, 4: 1}, {0: 1, 1: 0, 2: 1, 3: 1, 4: 2}, {0: 2, 1: 1, 2: 1, 3: 0, 4: 0}, {0: 2, 1: 1, 2: 2, 3: 1, 4: 0}, {0: 2, 1: 2, 2: 1, 3: 2, 4: 0}]\n",
      "\n",
      "score {0: [81.4, 17.333333333333332, -0.14102564102564097], 1: [70.8, 19.333333333333336, -0.12643678160919536], 2: [72.3, 31.0, -0.053763440860215006], 3: [51.8, 22.0, 0.0], 4: [95.175, 26.083333333333336, -0.21405750798722037], 5: [77.6, 32.0, -0.22916666666666666], 6: [75.9, 25.0, -0.10666666666666669], 7: [79.5, 28.333333333333336, -0.05882352941176464], 8: [60.875, 23.083333333333336, -0.07701564380264739]}\n",
      "\n",
      "dominance {0: [], 1: [], 2: [1, 8], 3: [], 4: [], 5: [], 6: [1], 7: [1, 6, 8], 8: []}\n",
      "\n",
      "{0: [], 1: [], 3: [], 4: [], 5: [], 8: [], 6: [1], 2: [1, 8], 7: [1, 6, 8]}\n",
      "6\n",
      "2\n",
      "{0: 1, 1: 1, 3: 1, 4: 1, 5: 1, 8: 1, 6: 2, 2: 2, 7: 3}\n"
     ]
    }
   ],
   "source": [
    "score = evaluate_population(starter)\n",
    "\n",
    "score = ranking(score)"
   ]
  },
  {
   "cell_type": "code",
   "execution_count": 6,
   "metadata": {},
   "outputs": [
    {
     "name": "stdout",
     "output_type": "stream",
     "text": [
      "1\n"
     ]
    }
   ],
   "source": [
    "rankk = {0: 1, 1: 1, 3: 1, 4: 1, 5: 1, 8: 1, 6: 2, 2: 2, 7: 3}\n",
    "print(rankk[0])"
   ]
  },
  {
   "cell_type": "code",
   "execution_count": 5,
   "metadata": {},
   "outputs": [
    {
     "name": "stdout",
     "output_type": "stream",
     "text": [
      "0 1\n",
      "2 3\n",
      "4 5\n"
     ]
    }
   ],
   "source": [
    "liste = [*range(6)]\n",
    "for i in range(0,6,2):\n",
    "    print(liste[i], liste[i+1])"
   ]
  },
  {
   "cell_type": "code",
   "execution_count": 9,
   "metadata": {},
   "outputs": [
    {
     "data": {
      "text/plain": [
       "inf"
      ]
     },
     "execution_count": 9,
     "metadata": {},
     "output_type": "execute_result"
    }
   ],
   "source": [
    "import math\n",
    "\n",
    "math.inf - 5"
   ]
  },
  {
   "cell_type": "code",
   "execution_count": 14,
   "metadata": {},
   "outputs": [
    {
     "name": "stdout",
     "output_type": "stream",
     "text": [
      "[2, 10, 16]\n",
      "[-2, 2, 5]\n"
     ]
    }
   ],
   "source": [
    "def somme(a):\n",
    "    return a+a\n",
    "\n",
    "def diff(a):\n",
    "    return a-3\n",
    "\n",
    "operations = [somme, diff]\n",
    "\n",
    "list(map(somme,[1,2]))\n",
    "\n",
    "# Truc incroyable\n",
    "for op in operations :\n",
    "    print(list(map(op, [1,5,8])))"
   ]
  },
  {
   "cell_type": "code",
   "execution_count": 19,
   "metadata": {},
   "outputs": [
    {
     "name": "stdout",
     "output_type": "stream",
     "text": [
      "[3, 0, 2, 4, 1]\n",
      "10\n",
      "24\n",
      "25\n"
     ]
    }
   ],
   "source": [
    "evaluated_pop = [10,58,24,3,25]\n",
    "sorted_pop = sorted(range(len(evaluated_pop)), key=lambda k: evaluated_pop[k])\n",
    "print(sorted_pop)\n",
    "\n",
    "for i in range(1,len(evaluated_pop)-1):\n",
    "    print(evaluated_pop[sorted_pop[i]])"
   ]
  },
  {
   "cell_type": "code",
   "execution_count": 41,
   "metadata": {},
   "outputs": [],
   "source": [
    "def crowding_distance(liste_solutions):\n",
    "    objective_functions = [compute_makespan, compute_cout, compute_disponibilite]\n",
    "    l = len(liste_solutions)\n",
    "    # Initialisation des distances\n",
    "    distance = {}\n",
    "    for i in range(l):\n",
    "        distance[i] = 0\n",
    "\n",
    "    # Tri en fonction de chaque objectif\n",
    "    for objectif in objective_functions:\n",
    "        # Evaluation\n",
    "        evaluated_pop = list(map(objectif, liste_solutions))\n",
    "        # Sort\n",
    "        sorted_pop = sorted(range(len(evaluated_pop)), key=lambda k: evaluated_pop[k])\n",
    "        # Infini pour les valeurs extrêmes\n",
    "        distance[sorted_pop[0]] = math.inf\n",
    "        distance[sorted_pop[-1]] = math.inf\n",
    "        for i in range(1,l-1):\n",
    "            distance[sorted_pop[i]] += evaluated_pop[sorted_pop[i+1]] - evaluated_pop[sorted_pop[i-1]]\n",
    "        \n",
    "        res = dict()\n",
    "        for key in distance:\n",
    "            if distance[key] != math.inf:\n",
    "                res[key] = round(distance[key][0],2)\n",
    "            else:\n",
    "                res[key] = distance[key]\n",
    "        \n",
    "        return res"
   ]
  },
  {
   "cell_type": "code",
   "execution_count": 43,
   "metadata": {},
   "outputs": [
    {
     "data": {
      "text/plain": [
       "{0: inf, 1: inf}"
      ]
     },
     "execution_count": 43,
     "metadata": {},
     "output_type": "execute_result"
    }
   ],
   "source": [
    "crowding_distance(starter[0:2])"
   ]
  },
  {
   "cell_type": "code",
   "execution_count": 54,
   "metadata": {},
   "outputs": [],
   "source": [
    "def selection(liste_solutions, ranking):\n",
    "    # On selectionne la moitié des solutions\n",
    "    # Comparaison des solutions 2 par 2 (choisies au hasard) puis sélection de la meilleure\n",
    "    distance_dict = crowding_distance(liste_solutions)\n",
    "    id_solutions = [*range(len(liste_solutions))]\n",
    "    random.shuffle(id_solutions)\n",
    "    selected_solutions = []\n",
    "    print(len(ranking))\n",
    "    print(len(liste_solutions))\n",
    "    for i in range(0,len(liste_solutions)-1,2):\n",
    "        rank = ranking[i] - ranking[i+1]\n",
    "        if rank == 0:\n",
    "            if distance_dict[i] >= distance_dict[i+1]:\n",
    "                selected_solutions.append(i)\n",
    "            else:\n",
    "                selected_solutions.append(i+1)\n",
    "        elif rank > 0:\n",
    "            selected_solutions.append(i)\n",
    "        else:\n",
    "            selected_solutions.append(i+1)\n",
    "    \n",
    "    return selected_solutions"
   ]
  },
  {
   "cell_type": "code",
   "execution_count": 56,
   "metadata": {},
   "outputs": [
    {
     "name": "stdout",
     "output_type": "stream",
     "text": [
      "{0: 1, 1: 1, 3: 1, 4: 1, 5: 1, 8: 1, 6: 2, 2: 2, 7: 3}\n"
     ]
    }
   ],
   "source": [
    "print(score)"
   ]
  },
  {
   "cell_type": "code",
   "execution_count": 57,
   "metadata": {},
   "outputs": [
    {
     "data": {
      "text/plain": [
       "10"
      ]
     },
     "execution_count": 57,
     "metadata": {},
     "output_type": "execute_result"
    }
   ],
   "source": [
    "len(starter)"
   ]
  },
  {
   "cell_type": "code",
   "execution_count": 58,
   "metadata": {},
   "outputs": [
    {
     "name": "stdout",
     "output_type": "stream",
     "text": [
      "[{0: 1, 1: 2, 2: 2, 3: 2, 4: 1}, {0: 2, 1: 2, 2: 1, 3: 2, 4: 0}, {0: 0, 1: 1, 2: 0, 3: 0, 4: 2}, {0: 1, 1: 1, 2: 1, 3: 1, 4: 2}, {0: 2, 1: 0, 2: 1, 3: 1, 4: 0}, {0: 1, 1: 0, 2: 0, 3: 0, 4: 1}, {0: 1, 1: 0, 2: 1, 3: 1, 4: 2}, {0: 2, 1: 1, 2: 1, 3: 0, 4: 0}, {0: 2, 1: 1, 2: 2, 3: 1, 4: 0}, {0: 2, 1: 2, 2: 1, 3: 2, 4: 0}]\n"
     ]
    }
   ],
   "source": [
    "print(starter)"
   ]
  },
  {
   "cell_type": "code",
   "execution_count": 55,
   "metadata": {},
   "outputs": [
    {
     "name": "stdout",
     "output_type": "stream",
     "text": [
      "[{0: 1, 1: 2, 2: 2, 3: 2, 4: 1}, {0: 2, 1: 2, 2: 1, 3: 2, 4: 0}, {0: 0, 1: 1, 2: 0, 3: 0, 4: 2}, {0: 1, 1: 1, 2: 1, 3: 1, 4: 2}, {0: 2, 1: 0, 2: 1, 3: 1, 4: 0}, {0: 1, 1: 0, 2: 0, 3: 0, 4: 1}, {0: 1, 1: 0, 2: 1, 3: 1, 4: 2}, {0: 2, 1: 1, 2: 1, 3: 0, 4: 0}, {0: 2, 1: 1, 2: 2, 3: 1, 4: 0}, {0: 2, 1: 2, 2: 1, 3: 2, 4: 0}]\n",
      "9\n",
      "10\n"
     ]
    },
    {
     "ename": "KeyError",
     "evalue": "9",
     "output_type": "error",
     "traceback": [
      "\u001b[1;31m---------------------------------------------------------------------------\u001b[0m",
      "\u001b[1;31mKeyError\u001b[0m                                  Traceback (most recent call last)",
      "\u001b[1;32m~\\AppData\\Local\\Temp\\ipykernel_3212\\102946028.py\u001b[0m in \u001b[0;36m<module>\u001b[1;34m\u001b[0m\n\u001b[0;32m      1\u001b[0m \u001b[0mprint\u001b[0m\u001b[1;33m(\u001b[0m\u001b[0mstarter\u001b[0m\u001b[1;33m)\u001b[0m\u001b[1;33m\u001b[0m\u001b[1;33m\u001b[0m\u001b[0m\n\u001b[1;32m----> 2\u001b[1;33m \u001b[0mselection\u001b[0m\u001b[1;33m(\u001b[0m\u001b[0mstarter\u001b[0m\u001b[1;33m,\u001b[0m\u001b[0mscore\u001b[0m\u001b[1;33m)\u001b[0m\u001b[1;33m\u001b[0m\u001b[1;33m\u001b[0m\u001b[0m\n\u001b[0m",
      "\u001b[1;32m~\\AppData\\Local\\Temp\\ipykernel_3212\\854128860.py\u001b[0m in \u001b[0;36mselection\u001b[1;34m(liste_solutions, ranking)\u001b[0m\n\u001b[0;32m      9\u001b[0m     \u001b[0mprint\u001b[0m\u001b[1;33m(\u001b[0m\u001b[0mlen\u001b[0m\u001b[1;33m(\u001b[0m\u001b[0mliste_solutions\u001b[0m\u001b[1;33m)\u001b[0m\u001b[1;33m)\u001b[0m\u001b[1;33m\u001b[0m\u001b[1;33m\u001b[0m\u001b[0m\n\u001b[0;32m     10\u001b[0m     \u001b[1;32mfor\u001b[0m \u001b[0mi\u001b[0m \u001b[1;32min\u001b[0m \u001b[0mrange\u001b[0m\u001b[1;33m(\u001b[0m\u001b[1;36m0\u001b[0m\u001b[1;33m,\u001b[0m\u001b[0mlen\u001b[0m\u001b[1;33m(\u001b[0m\u001b[0mliste_solutions\u001b[0m\u001b[1;33m)\u001b[0m\u001b[1;33m-\u001b[0m\u001b[1;36m1\u001b[0m\u001b[1;33m,\u001b[0m\u001b[1;36m2\u001b[0m\u001b[1;33m)\u001b[0m\u001b[1;33m:\u001b[0m\u001b[1;33m\u001b[0m\u001b[1;33m\u001b[0m\u001b[0m\n\u001b[1;32m---> 11\u001b[1;33m         \u001b[0mrank\u001b[0m \u001b[1;33m=\u001b[0m \u001b[0mranking\u001b[0m\u001b[1;33m[\u001b[0m\u001b[0mi\u001b[0m\u001b[1;33m]\u001b[0m \u001b[1;33m-\u001b[0m \u001b[0mranking\u001b[0m\u001b[1;33m[\u001b[0m\u001b[0mi\u001b[0m\u001b[1;33m+\u001b[0m\u001b[1;36m1\u001b[0m\u001b[1;33m]\u001b[0m\u001b[1;33m\u001b[0m\u001b[1;33m\u001b[0m\u001b[0m\n\u001b[0m\u001b[0;32m     12\u001b[0m         \u001b[1;32mif\u001b[0m \u001b[0mrank\u001b[0m \u001b[1;33m==\u001b[0m \u001b[1;36m0\u001b[0m\u001b[1;33m:\u001b[0m\u001b[1;33m\u001b[0m\u001b[1;33m\u001b[0m\u001b[0m\n\u001b[0;32m     13\u001b[0m             \u001b[0mselected_solutions\u001b[0m\u001b[1;33m.\u001b[0m\u001b[0mappend\u001b[0m\u001b[1;33m(\u001b[0m\u001b[0mmax\u001b[0m\u001b[1;33m(\u001b[0m\u001b[0mdistance_dict\u001b[0m\u001b[1;33m[\u001b[0m\u001b[0mi\u001b[0m\u001b[1;33m]\u001b[0m\u001b[1;33m,\u001b[0m \u001b[0mdistance_dict\u001b[0m\u001b[1;33m[\u001b[0m\u001b[0mi\u001b[0m\u001b[1;33m+\u001b[0m\u001b[1;36m1\u001b[0m\u001b[1;33m]\u001b[0m\u001b[1;33m)\u001b[0m\u001b[1;33m)\u001b[0m\u001b[1;33m\u001b[0m\u001b[1;33m\u001b[0m\u001b[0m\n",
      "\u001b[1;31mKeyError\u001b[0m: 9"
     ]
    }
   ],
   "source": [
    "print(starter)\n",
    "selection(starter,score)"
   ]
  }
 ],
 "metadata": {
  "kernelspec": {
   "display_name": "Python 3",
   "language": "python",
   "name": "python3"
  },
  "language_info": {
   "codemirror_mode": {
    "name": "ipython",
    "version": 3
   },
   "file_extension": ".py",
   "mimetype": "text/x-python",
   "name": "python",
   "nbconvert_exporter": "python",
   "pygments_lexer": "ipython3",
   "version": "3.8.3"
  },
  "orig_nbformat": 4
 },
 "nbformat": 4,
 "nbformat_minor": 2
}
